{
 "cells": [
  {
   "cell_type": "code",
   "execution_count": 23,
   "metadata": {},
   "outputs": [],
   "source": [
    "import tensorflow as tf\n",
    "import keras\n",
    "import numpy as np\n",
    "from keras.models import load_model\n",
    "import json\n",
    "from keras.utils import CustomObjectScope\n",
    "from keras.initializers import glorot_uniform\n",
    "import pprint"
   ]
  },
  {
   "cell_type": "code",
   "execution_count": 2,
   "metadata": {},
   "outputs": [],
   "source": [
    "with open(\"regression_history.json\",\"r\") as data:\n",
    "    history = json.load(data) "
   ]
  },
  {
   "cell_type": "code",
   "execution_count": 3,
   "metadata": {},
   "outputs": [
    {
     "data": {
      "text/plain": [
       "dict_keys(['val_loss', 'val_mean_absolute_error', 'val_acc', 'loss', 'mean_absolute_error', 'acc'])"
      ]
     },
     "execution_count": 3,
     "metadata": {},
     "output_type": "execute_result"
    }
   ],
   "source": [
    "history.keys()"
   ]
  },
  {
   "cell_type": "code",
   "execution_count": 4,
   "metadata": {},
   "outputs": [],
   "source": [
    "#history"
   ]
  },
  {
   "cell_type": "code",
   "execution_count": 5,
   "metadata": {},
   "outputs": [],
   "source": [
    "epochsRan=len(history['val_acc'])"
   ]
  },
  {
   "cell_type": "code",
   "execution_count": 6,
   "metadata": {},
   "outputs": [
    {
     "data": {
      "text/plain": [
       "114"
      ]
     },
     "execution_count": 6,
     "metadata": {},
     "output_type": "execute_result"
    }
   ],
   "source": [
    "epochsRan"
   ]
  },
  {
   "cell_type": "code",
   "execution_count": 11,
   "metadata": {},
   "outputs": [],
   "source": [
    "loss = []\n",
    "loss.append(history['loss'][0])\n",
    "for i in range(1,epochsRan):\n",
    "        if i%10 == 0:\n",
    "            loss.append(history['loss'][i-1])"
   ]
  },
  {
   "cell_type": "code",
   "execution_count": 15,
   "metadata": {},
   "outputs": [],
   "source": [
    "meanAbsoluteError = []\n",
    "meanAbsoluteError.append(history['mean_absolute_error'][0])\n",
    "for i in range(1,epochsRan):\n",
    "        if i%10 == 0:\n",
    "            meanAbsoluteError.append(history['mean_absolute_error'][i-1])"
   ]
  },
  {
   "cell_type": "code",
   "execution_count": 16,
   "metadata": {},
   "outputs": [],
   "source": [
    "validationLoss = []\n",
    "validationLoss.append(history['val_loss'][0])\n",
    "for i in range(1,epochsRan):\n",
    "        if i%10 == 0:\n",
    "            validationLoss.append(history['val_loss'][i-1])"
   ]
  },
  {
   "cell_type": "code",
   "execution_count": 25,
   "metadata": {},
   "outputs": [
    {
     "name": "stdout",
     "output_type": "stream",
     "text": [
      "10,20,30,40,50,60,70,80,90,100,110,"
     ]
    }
   ],
   "source": [
    "validationMAE = []\n",
    "validationMAE.append(history['val_mean_absolute_error'][0])\n",
    "for i in range(1,epochsRan):\n",
    "        if i%10 == 0:\n",
    "            validationMAE.append(history['val_mean_absolute_error'][i-1])\n",
    "            print(i,end=\",\")"
   ]
  },
  {
   "cell_type": "code",
   "execution_count": null,
   "metadata": {},
   "outputs": [],
   "source": [
    "plt.plot(xa,train_loss)\n",
    "plt.title(\"Loss function for the Training\")\n",
    "plt.xlabel('Epochs')\n",
    "plt.ylabel('Loss')\n",
    "plt.savefig(FN+\"_tl.png\",bbox_inches='tight')"
   ]
  },
  {
   "cell_type": "code",
   "execution_count": null,
   "metadata": {},
   "outputs": [],
   "source": [
    "plt.plot(xa,val_loss)\n",
    "plt.title(\"Loss function for the Validation\")\n",
    "plt.xlabel('Epochs')\n",
    "plt.savefig(FN+'_vl.png',bbox_inches='tight')"
   ]
  },
  {
   "cell_type": "code",
   "execution_count": null,
   "metadata": {},
   "outputs": [],
   "source": [
    "plt.plot(xa,history.history['mean_absolute_error'])\n",
    "plt.title(\"Mean of the absolute errors (MAE) for Traning Set\")\n",
    "plt.xlabel('Epochs')\n",
    "plt.ylabel('MAE')\n",
    "plt.savefig(FN+'_tmae.png',bbox_inches='tight')"
   ]
  },
  {
   "cell_type": "code",
   "execution_count": null,
   "metadata": {},
   "outputs": [],
   "source": [
    "plt.plot(xa,history.history['val_mean_absolute_error'])\n",
    "plt.title(\"Mean of the absolute errors (MAE) for Validation Set\")\n",
    "plt.xlabel('Epochs')\n",
    "plt.ylabel('MAE')\n",
    "plt.savefig(FN+'_vmae.png',bbox_inches='tight')"
   ]
  },
  {
   "cell_type": "code",
   "execution_count": 32,
   "metadata": {},
   "outputs": [
    {
     "name": "stdout",
     "output_type": "stream",
     "text": [
      "[505.90386459853625, 52.79447773524693, 20.51386162474915, 13.64822526030488, 12.202867969051821, 10.209015877692254, 9.862020723112337, 9.832730859190553, 9.40323539356609, 10.149026514409663, 9.958838651468465, 8.893130061390636],"
     ]
    }
   ],
   "source": [
    "# print(loss,end=\",\")\n",
    "# print(meanAbsoluteError,end=\",\")\n",
    "print(validationLoss,end=\",\")"
   ]
  },
  {
   "cell_type": "code",
   "execution_count": null,
   "metadata": {},
   "outputs": [],
   "source": []
  }
 ],
 "metadata": {
  "kernelspec": {
   "display_name": "dl_app",
   "language": "python",
   "name": "dl_app"
  },
  "language_info": {
   "codemirror_mode": {
    "name": "ipython",
    "version": 3
   },
   "file_extension": ".py",
   "mimetype": "text/x-python",
   "name": "python",
   "nbconvert_exporter": "python",
   "pygments_lexer": "ipython3",
   "version": "3.6.5"
  }
 },
 "nbformat": 4,
 "nbformat_minor": 2
}
